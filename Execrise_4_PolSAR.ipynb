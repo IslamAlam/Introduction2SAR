{
 "cells": [
  {
   "cell_type": "markdown",
   "metadata": {},
   "source": [
    "# Polarimetry introduction:"
   ]
  },
  {
   "cell_type": "markdown",
   "metadata": {},
   "source": [
    "## 0.Data:\n",
    "\n",
    "Alling Data set of 2000 ('i_1206_xy.dat'), incidence angle ('i_1206_rla.dat') of scene and land use code of subset ('legend_alling.jpg', 'landuse_alling.jpg')\n"
   ]
  },
  {
   "cell_type": "markdown",
   "metadata": {},
   "source": [
    "## 1.Literature:\n",
    "\n",
    "Dissertation: Chapter 5 of Irena’s Dissertation\n",
    "Book: Polarimetric RADAR imaging: From basics to applications (Lee, Pottier) – chapter 2-3 and chapter 6-7\n",
    "Paper: A review of target decomposition theorems in RADAR polarimetry (Cloude & Pottier)\n",
    "Paper: An entropy based classification scheme for land applications of polarimetric SAR (Cloude & Pottier)\n",
    "Paper: Inversion of surface parameters from polarimetric SAR (Hajnsek & Pottier & Cloude)\n",
    "Paper: A Four-Component Decomposition of PolSAR images based on the coherency matrix (Yamaguchi & Yajima & Yamada)\n",
    "\n",
    "Futher literature:\n",
    "Paper: Potential of estimating soil moisture under vegetation cover by means of PolSAR (Hajnsek & Jagdhuber & Schön & Papathanassiou)\n",
    "Conference-Paper: Soil moisture estimation under Vegetation applying polarimetric decomposition techniques (Jagdhuber & Hajnsek & Papathanassiou)\n",
    "\n"
   ]
  },
  {
   "cell_type": "markdown",
   "metadata": {},
   "source": [
    "## 2.Tasks:\n",
    "\n",
    "Visualize power (absolute-squared) of [S]-Matrix Elements (Shh, Svv, Sxx) in dB (coloured). Take care: Sigma^0=Power of S-matrix-element*(sin(incidence))/1000000. Plus calculate the histograms for everything.\n",
    "Calculate polarimetric coherences (HH-VV, HH-XX, VV-XX, LL-RR) and visualize the absolute and the phase of the coherence in black and white. Plus calculate the histograms for everything. \n",
    "Calculate the Covariance Matrix [C] and visualize the elements C1, C22, C33 as powers and the elements C13, C23, C12 as powers and their phases. Plus calculate the histograms for everything.\n",
    "Calculate the Coherency Matrix [T] and visualize the elements T11, T22, T33 as powers and the elements T13, T23, T12 as powers and their phases. Plus calculate the histograms for everything.\n",
    "Calculate the Total power (=span) of the [S]-, the [T]- and the [C]-matrix, visualize the images and plot all three histograms in one plot. What is the outcome?\n",
    "Calculate the eigenvalues and eigenvectors of the [T]-matrix in an analytical way and with the built-in IDL routine ‘LA_Eigenql’. Compare both solutions. Differences between the solutions? Visualize the eigenvalues and compute the histograms? Do you notice anything, if you compare them?\n",
    "Calculate the entropy (H), alpha angle (alpha), dominant alpha angle (alpha from dominant eigenvalue=alpha1) and anisotropy (A), Visualize in colour and plot the histograms.\n",
    "Visualize entropy-alpha in a 2D-histogram plot and compare with the classification published in 4. Plus visualize H-A in a 2D-histogram plot.\n",
    "Calculate X-Bragg model of  5. and show the modelled results for entropy and alpha in a 2D-entropy-alpha-plane.\n",
    "Invert the calculated entropy and alpha layers from the data with the X-Bragg modelled entropy and alpha values for soil moisture and a roughness angle. Visualize the soil moisture and the roughness angle. Plus calculate the histograms for both.\n",
    "Calculate a model-based decomposition on the [T]-matrix using 6., calculate the powers and visualize the powers. Is there a problem with this decomposition?\n",
    "\n",
    "\n",
    "Please ask for help, if you are not advancing after half a day. You are not alone in this adventure. Please use the help-function of IDL for programming details. Feel free to ask for additional papers.\n"
   ]
  },
  {
   "cell_type": "markdown",
   "metadata": {},
   "source": [
    "between -30 , 0 first try then change the scale again \n",
    "\n",
    "Power and Sigma zeros in BW\n",
    "Phase or Phase Diff in colors\n",
    "Put the 3 of them in the same scale lets say -30, 0 \n",
    "\n"
   ]
  },
  {
   "cell_type": "code",
   "execution_count": 1,
   "metadata": {},
   "outputs": [],
   "source": [
    "import numpy as np\n",
    "import matplotlib.pyplot as plt\n",
    "from matplotlib.colors import LogNorm\n",
    "from scipy import signal\n",
    "import scipy\n",
    "# from helper import open_dat_file\n",
    "\n",
    "import struct\n",
    "\n",
    "if \"base_folder\" not in locals():\n",
    "    base_folder = \"./\"\n",
    "\n",
    "import sys\n",
    "sys.path.append(base_folder)\n",
    "sys.path.append(base_folder+\"src/\")\n",
    "\n",
    "from sar import *\n",
    "\n",
    "# # Configure plot universal property\n",
    "plt.rcParams['figure.figsize'] = (16, 16)\n",
    "plt.rcParams['font.size'] = 16\n",
    "\n",
    "%matplotlib inline"
   ]
  },
  {
   "cell_type": "code",
   "execution_count": 2,
   "metadata": {},
   "outputs": [
    {
     "name": "stdout",
     "output_type": "stream",
     "text": [
      "1 ././data/ex4/i_al_af_1206_hh_corr.dat\n",
      "1480 4254\n",
      "['././data/ex4/i_al_af_1206_hh_corr.mat']\n",
      "2 ././data/ex4/i_al_af_1206_vv_corr.dat\n",
      "1480 4254\n",
      "['././data/ex4/i_al_af_1206_vv_corr.mat']\n",
      "3 ././data/ex4/i_al_af_1206_xx_corr.dat\n",
      "1480 4254\n",
      "['././data/ex4/i_al_af_1206_xx_corr.mat']\n"
     ]
    }
   ],
   "source": [
    "import glob\n",
    "import scipy.io as sio\n",
    "\n",
    "data_files = glob.glob(base_folder + './data/ex4/*.dat')\n",
    "data_files = np.sort(data_files)\n",
    "\n",
    "\n",
    "import load_binary as load\n",
    "\n",
    "dfs = {}\n",
    "for idx, f in enumerate(data_files, 1):         \n",
    "    print(idx, f)\n",
    "    dfs[idx] = load.complexs_from_file_with_size_swap_endian(f)\n",
    "    print([f[:-4] +'.mat'])\n",
    "    sio.savemat(str(f[:-4] +'.mat'), {'obj_arr':dfs[idx]})\n",
    "\n"
   ]
  },
  {
   "cell_type": "code",
   "execution_count": null,
   "metadata": {},
   "outputs": [],
   "source": []
  },
  {
   "cell_type": "markdown",
   "metadata": {},
   "source": [
    "\n",
    "\n",
    "\n",
    "\n",
    "\n",
    "\n",
    "\n",
    "\n",
    "\n",
    "\n"
   ]
  }
 ],
 "metadata": {
  "kernelspec": {
   "display_name": "Python 3",
   "language": "python",
   "name": "python3"
  },
  "language_info": {
   "codemirror_mode": {
    "name": "ipython",
    "version": 3
   },
   "file_extension": ".py",
   "mimetype": "text/x-python",
   "name": "python",
   "nbconvert_exporter": "python",
   "pygments_lexer": "ipython3",
   "version": "3.7.8"
  }
 },
 "nbformat": 4,
 "nbformat_minor": 4
}
